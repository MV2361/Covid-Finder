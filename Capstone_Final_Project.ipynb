{
 "cells": [
  {
   "cell_type": "code",
   "execution_count": 6,
   "metadata": {},
   "outputs": [],
   "source": [
    "import numpy as np\n",
    "import pandas as pd\n",
    "import os\n",
    "import PIL\n",
    "import cv2\n",
    "import tensorflow as tf\n",
    "from tensorflow import keras\n",
    "from tensorflow.keras.optimizers import Adam\n",
    "from tensorflow.keras.preprocessing.image import ImageDataGenerator\n",
    "import matplotlib.pyplot as plt\n",
    "from matplotlib.pyplot import imshow\n",
    "from sklearn.model_selection import train_test_split\n",
    "import matplotlib.pyplot as plt\n",
    "from matplotlib.pyplot import imshow\n",
    "import shutil\n",
    "from sklearn.metrics import confusion_matrix, classification_report"
   ]
  },
  {
   "cell_type": "code",
   "execution_count": 7,
   "metadata": {},
   "outputs": [],
   "source": [
    "train_df = pd.read_csv('capstone covid data/train.txt', sep=\" \", header=None)"
   ]
  },
  {
   "cell_type": "code",
   "execution_count": 8,
   "metadata": {},
   "outputs": [],
   "source": [
    "train_df.columns=['patient id', 'filename', 'class', 'data source']"
   ]
  },
  {
   "cell_type": "code",
   "execution_count": 9,
   "metadata": {},
   "outputs": [],
   "source": [
    "train_df=train_df.drop(['patient id', 'data source'], axis=1 )"
   ]
  },
  {
   "cell_type": "code",
   "execution_count": 10,
   "metadata": {},
   "outputs": [
    {
     "data": {
      "text/html": [
       "<div>\n",
       "<style scoped>\n",
       "    .dataframe tbody tr th:only-of-type {\n",
       "        vertical-align: middle;\n",
       "    }\n",
       "\n",
       "    .dataframe tbody tr th {\n",
       "        vertical-align: top;\n",
       "    }\n",
       "\n",
       "    .dataframe thead th {\n",
       "        text-align: right;\n",
       "    }\n",
       "</style>\n",
       "<table border=\"1\" class=\"dataframe\">\n",
       "  <thead>\n",
       "    <tr style=\"text-align: right;\">\n",
       "      <th></th>\n",
       "      <th>filename</th>\n",
       "      <th>class</th>\n",
       "    </tr>\n",
       "  </thead>\n",
       "  <tbody>\n",
       "    <tr>\n",
       "      <th>0</th>\n",
       "      <td>ARDSSevere.png</td>\n",
       "      <td>negative</td>\n",
       "    </tr>\n",
       "    <tr>\n",
       "      <th>1</th>\n",
       "      <td>acute-respiratory-distress-syndrome-ards-1.jpg</td>\n",
       "      <td>negative</td>\n",
       "    </tr>\n",
       "    <tr>\n",
       "      <th>2</th>\n",
       "      <td>acute-respiratory-distress-syndrome-ards.jpg</td>\n",
       "      <td>negative</td>\n",
       "    </tr>\n",
       "    <tr>\n",
       "      <th>3</th>\n",
       "      <td>ards-secondary-to-tiger-snake-bite.png</td>\n",
       "      <td>negative</td>\n",
       "    </tr>\n",
       "    <tr>\n",
       "      <th>4</th>\n",
       "      <td>pneumocystis-pneumonia-2-PA.png</td>\n",
       "      <td>negative</td>\n",
       "    </tr>\n",
       "  </tbody>\n",
       "</table>\n",
       "</div>"
      ],
      "text/plain": [
       "                                         filename     class\n",
       "0                                  ARDSSevere.png  negative\n",
       "1  acute-respiratory-distress-syndrome-ards-1.jpg  negative\n",
       "2    acute-respiratory-distress-syndrome-ards.jpg  negative\n",
       "3          ards-secondary-to-tiger-snake-bite.png  negative\n",
       "4                 pneumocystis-pneumonia-2-PA.png  negative"
      ]
     },
     "execution_count": 10,
     "metadata": {},
     "output_type": "execute_result"
    }
   ],
   "source": [
    "train_df.head()"
   ]
  },
  {
   "cell_type": "code",
   "execution_count": 11,
   "metadata": {},
   "outputs": [],
   "source": [
    "test_df = pd.read_csv('Capstone covid data/test.txt', sep=\" \", header=None)\n",
    "test_df.columns=['id', 'filename', 'class', 'data source' ]\n",
    "test_df=test_df.drop(['id', 'data source'], axis=1 )"
   ]
  },
  {
   "cell_type": "code",
   "execution_count": 12,
   "metadata": {},
   "outputs": [
    {
     "data": {
      "text/html": [
       "<div>\n",
       "<style scoped>\n",
       "    .dataframe tbody tr th:only-of-type {\n",
       "        vertical-align: middle;\n",
       "    }\n",
       "\n",
       "    .dataframe tbody tr th {\n",
       "        vertical-align: top;\n",
       "    }\n",
       "\n",
       "    .dataframe thead th {\n",
       "        text-align: right;\n",
       "    }\n",
       "</style>\n",
       "<table border=\"1\" class=\"dataframe\">\n",
       "  <thead>\n",
       "    <tr style=\"text-align: right;\">\n",
       "      <th></th>\n",
       "      <th>filename</th>\n",
       "      <th>class</th>\n",
       "    </tr>\n",
       "  </thead>\n",
       "  <tbody>\n",
       "    <tr>\n",
       "      <th>0</th>\n",
       "      <td>MIDRC-RICORD-1C-419639-003251-46647-0.png</td>\n",
       "      <td>positive</td>\n",
       "    </tr>\n",
       "    <tr>\n",
       "      <th>1</th>\n",
       "      <td>MIDRC-RICORD-1C-419639-001464-39871-0.png</td>\n",
       "      <td>positive</td>\n",
       "    </tr>\n",
       "    <tr>\n",
       "      <th>2</th>\n",
       "      <td>MIDRC-RICORD-1C-419639-000918-78965-0.png</td>\n",
       "      <td>positive</td>\n",
       "    </tr>\n",
       "    <tr>\n",
       "      <th>3</th>\n",
       "      <td>MIDRC-RICORD-1C-419639-003318-64285-0.png</td>\n",
       "      <td>positive</td>\n",
       "    </tr>\n",
       "    <tr>\n",
       "      <th>4</th>\n",
       "      <td>MIDRC-RICORD-1C-419639-001015-81591-0.png</td>\n",
       "      <td>positive</td>\n",
       "    </tr>\n",
       "  </tbody>\n",
       "</table>\n",
       "</div>"
      ],
      "text/plain": [
       "                                    filename     class\n",
       "0  MIDRC-RICORD-1C-419639-003251-46647-0.png  positive\n",
       "1  MIDRC-RICORD-1C-419639-001464-39871-0.png  positive\n",
       "2  MIDRC-RICORD-1C-419639-000918-78965-0.png  positive\n",
       "3  MIDRC-RICORD-1C-419639-003318-64285-0.png  positive\n",
       "4  MIDRC-RICORD-1C-419639-001015-81591-0.png  positive"
      ]
     },
     "execution_count": 12,
     "metadata": {},
     "output_type": "execute_result"
    }
   ],
   "source": [
    "test_df.head()"
   ]
  },
  {
   "cell_type": "code",
   "execution_count": 13,
   "metadata": {},
   "outputs": [
    {
     "data": {
      "text/plain": [
       "negative    13793\n",
       "positive     2158\n",
       "Name: class, dtype: int64"
      ]
     },
     "execution_count": 13,
     "metadata": {},
     "output_type": "execute_result"
    }
   ],
   "source": [
    "train_df['class'].value_counts()"
   ]
  },
  {
   "cell_type": "code",
   "execution_count": 14,
   "metadata": {},
   "outputs": [],
   "source": [
    "negative  = train_df[train_df['class']=='negative']  \n",
    "positive = train_df[train_df['class']=='positive'] \n",
    "from sklearn.utils import resample\n",
    "\n",
    "df_majority_downsampled = resample(negative, replace = True, n_samples = 2158) \n",
    "\n",
    "train_df = pd.concat([positive, df_majority_downsampled])\n",
    "\n",
    "from sklearn.utils import shuffle\n",
    "train_df = shuffle(train_df) "
   ]
  },
  {
   "cell_type": "code",
   "execution_count": 15,
   "metadata": {},
   "outputs": [
    {
     "data": {
      "text/plain": [
       "negative    2158\n",
       "positive    2158\n",
       "Name: class, dtype: int64"
      ]
     },
     "execution_count": 15,
     "metadata": {},
     "output_type": "execute_result"
    }
   ],
   "source": [
    "train_df['class'].value_counts()"
   ]
  },
  {
   "cell_type": "code",
   "execution_count": 16,
   "metadata": {},
   "outputs": [],
   "source": [
    "import numpy as np\n",
    "import matplotlib.pyplot as plt\n",
    "import keras\n",
    "from keras.layers import *\n",
    "from keras.models import * \n",
    "from keras.preprocessing import image "
   ]
  },
  {
   "cell_type": "code",
   "execution_count": 12,
   "metadata": {},
   "outputs": [],
   "source": [
    "# CNN Based Model in Keras\n",
    "\n",
    "model = Sequential()\n",
    "model.add(Conv2D(32,kernel_size=(3,3),activation='relu',input_shape=(224,224,3)))\n",
    "model.add(Conv2D(64,(3,3),activation='relu'))\n",
    "model.add(MaxPooling2D(pool_size=(2,2)))\n",
    "model.add(Dropout(0.25))\n",
    "\n",
    "model.add(Conv2D(64,(3,3),activation='relu'))\n",
    "model.add(MaxPooling2D(pool_size=(2,2)))\n",
    "model.add(Dropout(0.25))\n",
    "\n",
    "model.add(Conv2D(128,(3,3),activation='relu'))\n",
    "model.add(MaxPooling2D(pool_size=(2,2)))\n",
    "model.add(Dropout(0.25))\n",
    "\n",
    "model.add(Flatten())\n",
    "model.add(Dense(64,activation='relu'))\n",
    "model.add(Dropout(0.5))\n",
    "model.add(Dense(1,activation='sigmoid'))\n",
    "\n",
    "model.compile(loss=keras.losses.binary_crossentropy,optimizer='adam',metrics=['accuracy'])"
   ]
  },
  {
   "cell_type": "code",
   "execution_count": 13,
   "metadata": {},
   "outputs": [
    {
     "name": "stdout",
     "output_type": "stream",
     "text": [
      "Model: \"sequential_1\"\n",
      "_________________________________________________________________\n",
      "Layer (type)                 Output Shape              Param #   \n",
      "=================================================================\n",
      "conv2d_1 (Conv2D)            (None, 222, 222, 32)      896       \n",
      "_________________________________________________________________\n",
      "conv2d_2 (Conv2D)            (None, 220, 220, 64)      18496     \n",
      "_________________________________________________________________\n",
      "max_pooling2d_1 (MaxPooling2 (None, 110, 110, 64)      0         \n",
      "_________________________________________________________________\n",
      "dropout_1 (Dropout)          (None, 110, 110, 64)      0         \n",
      "_________________________________________________________________\n",
      "conv2d_3 (Conv2D)            (None, 108, 108, 64)      36928     \n",
      "_________________________________________________________________\n",
      "max_pooling2d_2 (MaxPooling2 (None, 54, 54, 64)        0         \n",
      "_________________________________________________________________\n",
      "dropout_2 (Dropout)          (None, 54, 54, 64)        0         \n",
      "_________________________________________________________________\n",
      "conv2d_4 (Conv2D)            (None, 52, 52, 128)       73856     \n",
      "_________________________________________________________________\n",
      "max_pooling2d_3 (MaxPooling2 (None, 26, 26, 128)       0         \n",
      "_________________________________________________________________\n",
      "dropout_3 (Dropout)          (None, 26, 26, 128)       0         \n",
      "_________________________________________________________________\n",
      "flatten_1 (Flatten)          (None, 86528)             0         \n",
      "_________________________________________________________________\n",
      "dense_1 (Dense)              (None, 64)                5537856   \n",
      "_________________________________________________________________\n",
      "dropout_4 (Dropout)          (None, 64)                0         \n",
      "_________________________________________________________________\n",
      "dense_2 (Dense)              (None, 1)                 65        \n",
      "=================================================================\n",
      "Total params: 5,668,097\n",
      "Trainable params: 5,668,097\n",
      "Non-trainable params: 0\n",
      "_________________________________________________________________\n"
     ]
    }
   ],
   "source": [
    "model.summary()"
   ]
  },
  {
   "cell_type": "code",
   "execution_count": null,
   "metadata": {},
   "outputs": [],
   "source": []
  },
  {
   "cell_type": "code",
   "execution_count": null,
   "metadata": {},
   "outputs": [],
   "source": []
  },
  {
   "cell_type": "code",
   "execution_count": 17,
   "metadata": {},
   "outputs": [],
   "source": [
    "train_df, valid_df = train_test_split(train_df, train_size=0.9, random_state=0)"
   ]
  },
  {
   "cell_type": "code",
   "execution_count": 18,
   "metadata": {},
   "outputs": [
    {
     "name": "stdout",
     "output_type": "stream",
     "text": [
      "Negative and positive values of train: negative    1945\n",
      "positive    1939\n",
      "Name: class, dtype: int64\n",
      "Negative and positive values of validation: positive    219\n",
      "negative    213\n",
      "Name: class, dtype: int64\n",
      "Negative and positive values of test: negative    200\n",
      "positive    200\n",
      "Name: class, dtype: int64\n"
     ]
    }
   ],
   "source": [
    "print(f\"Negative and positive values of train: {train_df['class'].value_counts()}\")\n",
    "print(f\"Negative and positive values of validation: {valid_df['class'].value_counts()}\")\n",
    "print(f\"Negative and positive values of test: {test_df['class'].value_counts()}\")"
   ]
  },
  {
   "cell_type": "code",
   "execution_count": 19,
   "metadata": {},
   "outputs": [],
   "source": [
    "train_path = 'Capstone covid data/train'  #directory path\n",
    "test_path = 'Capstone covid data/test'"
   ]
  },
  {
   "cell_type": "code",
   "execution_count": 20,
   "metadata": {},
   "outputs": [],
   "source": [
    "train_datagen = ImageDataGenerator(rescale = 1./255, \n",
    "                                   shear_range = 0.2, zoom_range = 0.2, horizontal_flip = True)\n",
    "test_datagen = ImageDataGenerator(rescale = 1./255)"
   ]
  },
  {
   "cell_type": "code",
   "execution_count": 21,
   "metadata": {},
   "outputs": [
    {
     "name": "stdout",
     "output_type": "stream",
     "text": [
      "Found 3884 validated image filenames belonging to 2 classes.\n",
      "Found 432 validated image filenames belonging to 2 classes.\n",
      "Found 400 validated image filenames belonging to 2 classes.\n"
     ]
    }
   ],
   "source": [
    "train_gen = train_datagen.flow_from_dataframe(dataframe = train_df, directory=train_path, x_col='filename', \n",
    "                                              y_col='class', target_size=(224,224), batch_size=64, \n",
    "                                               class_mode='binary')\n",
    "valid_gen = test_datagen.flow_from_dataframe(dataframe = valid_df, directory=train_path, x_col='filename',\n",
    "                                             y_col='class', target_size=(224,224), batch_size=64, \n",
    "                                            class_mode='binary')\n",
    "test_gen = test_datagen.flow_from_dataframe(dataframe = test_df, directory=test_path, x_col='filename', \n",
    "                                            y_col='class', target_size=(224,224), batch_size=64,\n",
    "                                             class_mode='binary')\n"
   ]
  },
  {
   "cell_type": "code",
   "execution_count": 22,
   "metadata": {},
   "outputs": [
    {
     "data": {
      "text/plain": [
       "{'negative': 0, 'positive': 1}"
      ]
     },
     "execution_count": 22,
     "metadata": {},
     "output_type": "execute_result"
    }
   ],
   "source": [
    "train_gen.class_indices"
   ]
  },
  {
   "cell_type": "code",
   "execution_count": 25,
   "metadata": {},
   "outputs": [
    {
     "name": "stdout",
     "output_type": "stream",
     "text": [
      "Epoch 1/20\n",
      "61/61 [==============================] - 478s 8s/step - loss: 0.6891 - accuracy: 0.6087 - val_loss: 0.6012 - val_accuracy: 0.7153\n",
      "Epoch 2/20\n",
      "61/61 [==============================] - 483s 8s/step - loss: 0.6086 - accuracy: 0.6746 - val_loss: 0.6096 - val_accuracy: 0.6852\n",
      "Epoch 3/20\n",
      "61/61 [==============================] - 482s 8s/step - loss: 0.5605 - accuracy: 0.7176 - val_loss: 0.5231 - val_accuracy: 0.7176\n",
      "Epoch 4/20\n",
      "61/61 [==============================] - 472s 8s/step - loss: 0.5376 - accuracy: 0.7289 - val_loss: 0.4702 - val_accuracy: 0.7778\n",
      "Epoch 5/20\n",
      "61/61 [==============================] - 468s 8s/step - loss: 0.5068 - accuracy: 0.7629 - val_loss: 0.4889 - val_accuracy: 0.7755\n",
      "Epoch 6/20\n",
      "61/61 [==============================] - 465s 8s/step - loss: 0.4768 - accuracy: 0.7804 - val_loss: 0.4006 - val_accuracy: 0.8009\n",
      "Epoch 7/20\n",
      "61/61 [==============================] - 461s 8s/step - loss: 0.4692 - accuracy: 0.7873 - val_loss: 0.6101 - val_accuracy: 0.7986\n",
      "Epoch 8/20\n",
      "61/61 [==============================] - 494s 8s/step - loss: 0.4465 - accuracy: 0.8054 - val_loss: 0.5908 - val_accuracy: 0.7801\n",
      "Epoch 9/20\n",
      "61/61 [==============================] - 473s 8s/step - loss: 0.4547 - accuracy: 0.7951 - val_loss: 0.5198 - val_accuracy: 0.7569\n",
      "Epoch 10/20\n",
      "61/61 [==============================] - 713s 12s/step - loss: 0.4452 - accuracy: 0.8069 - val_loss: 0.4136 - val_accuracy: 0.8287\n",
      "Epoch 11/20\n",
      "61/61 [==============================] - 1006s 16s/step - loss: 0.4116 - accuracy: 0.8167 - val_loss: 0.2532 - val_accuracy: 0.8727\n",
      "Epoch 12/20\n",
      "61/61 [==============================] - 833s 14s/step - loss: 0.4298 - accuracy: 0.8151 - val_loss: 0.3601 - val_accuracy: 0.8403\n",
      "Epoch 13/20\n",
      "61/61 [==============================] - 458s 8s/step - loss: 0.4059 - accuracy: 0.8195 - val_loss: 0.2377 - val_accuracy: 0.8403\n",
      "Epoch 14/20\n",
      "61/61 [==============================] - 453s 7s/step - loss: 0.3836 - accuracy: 0.8435 - val_loss: 0.2800 - val_accuracy: 0.8542\n",
      "Epoch 15/20\n",
      "61/61 [==============================] - 454s 7s/step - loss: 0.3763 - accuracy: 0.8342 - val_loss: 0.3905 - val_accuracy: 0.8657\n",
      "Epoch 16/20\n",
      "61/61 [==============================] - 502s 8s/step - loss: 0.3558 - accuracy: 0.8610 - val_loss: 0.4837 - val_accuracy: 0.8426\n",
      "Epoch 17/20\n",
      "61/61 [==============================] - 1015s 17s/step - loss: 0.3480 - accuracy: 0.8561 - val_loss: 0.3438 - val_accuracy: 0.8287\n",
      "Epoch 18/20\n",
      "61/61 [==============================] - 551s 9s/step - loss: 0.3364 - accuracy: 0.8571 - val_loss: 0.4897 - val_accuracy: 0.8287\n",
      "Epoch 19/20\n",
      "61/61 [==============================] - 602s 10s/step - loss: 0.3238 - accuracy: 0.8643 - val_loss: 0.2992 - val_accuracy: 0.8634\n",
      "Epoch 20/20\n",
      "61/61 [==============================] - 1054s 17s/step - loss: 0.3242 - accuracy: 0.8653 - val_loss: 0.5257 - val_accuracy: 0.8657\n"
     ]
    }
   ],
   "source": [
    "hist = model.fit_generator(\n",
    "    train_gen,\n",
    "    epochs = 20,\n",
    "    validation_data = valid_gen,\n",
    ")"
   ]
  },
  {
   "cell_type": "code",
   "execution_count": 26,
   "metadata": {},
   "outputs": [
    {
     "data": {
      "text/plain": [
       "[0.3611181080341339, 0.8931514024734497]"
      ]
     },
     "execution_count": 26,
     "metadata": {},
     "output_type": "execute_result"
    }
   ],
   "source": [
    "model.evaluate_generator(train_gen)"
   ]
  },
  {
   "cell_type": "code",
   "execution_count": 27,
   "metadata": {},
   "outputs": [
    {
     "data": {
      "text/plain": [
       "[0.3568831980228424, 0.8657407164573669]"
      ]
     },
     "execution_count": 27,
     "metadata": {},
     "output_type": "execute_result"
    }
   ],
   "source": [
    "model.evaluate_generator(valid_gen)"
   ]
  },
  {
   "cell_type": "code",
   "execution_count": 28,
   "metadata": {},
   "outputs": [],
   "source": [
    "model.save('CNN_model_covid.h5')"
   ]
  },
  {
   "cell_type": "code",
   "execution_count": 12,
   "metadata": {},
   "outputs": [],
   "source": [
    "model=load_model('CNN_model_covid.h5')"
   ]
  },
  {
   "cell_type": "code",
   "execution_count": 23,
   "metadata": {},
   "outputs": [
    {
     "data": {
      "text/plain": [
       "[0.26798686385154724, 0.8924999833106995]"
      ]
     },
     "execution_count": 23,
     "metadata": {},
     "output_type": "execute_result"
    }
   ],
   "source": [
    "model.evaluate_generator(test_gen)"
   ]
  },
  {
   "cell_type": "code",
   "execution_count": 1,
   "metadata": {},
   "outputs": [
    {
     "name": "stdout",
     "output_type": "stream",
     "text": [
      "Collecting flask\n",
      "  Downloading Flask-2.0.1-py3-none-any.whl (94 kB)\n",
      "Collecting itsdangerous>=2.0\n",
      "  Downloading itsdangerous-2.0.1-py3-none-any.whl (18 kB)\n",
      "Collecting Jinja2>=3.0\n",
      "  Downloading Jinja2-3.0.1-py3-none-any.whl (133 kB)\n",
      "Requirement already satisfied: click>=7.1.2 in c:\\users\\mayan\\anaconda3\\lib\\site-packages (from flask) (7.1.2)\n",
      "Collecting Werkzeug>=2.0\n",
      "  Downloading Werkzeug-2.0.1-py3-none-any.whl (288 kB)\n",
      "Collecting MarkupSafe>=2.0\n",
      "  Downloading MarkupSafe-2.0.1-cp37-cp37m-win_amd64.whl (14 kB)\n",
      "Installing collected packages: itsdangerous, MarkupSafe, Jinja2, Werkzeug, flask\n",
      "  Attempting uninstall: MarkupSafe\n",
      "    Found existing installation: MarkupSafe 1.1.1\n",
      "    Uninstalling MarkupSafe-1.1.1:\n",
      "      Successfully uninstalled MarkupSafe-1.1.1\n",
      "  Attempting uninstall: Jinja2\n",
      "    Found existing installation: Jinja2 2.11.2\n",
      "    Uninstalling Jinja2-2.11.2:\n",
      "      Successfully uninstalled Jinja2-2.11.2\n",
      "  Attempting uninstall: Werkzeug\n",
      "    Found existing installation: Werkzeug 0.16.1\n",
      "    Uninstalling Werkzeug-0.16.1:\n",
      "      Successfully uninstalled Werkzeug-0.16.1\n",
      "Successfully installed Jinja2-3.0.1 MarkupSafe-2.0.1 Werkzeug-2.0.1 flask-2.0.1 itsdangerous-2.0.1\n"
     ]
    }
   ],
   "source": [
    "!pip install flask"
   ]
  },
  {
   "cell_type": "code",
   "execution_count": null,
   "metadata": {},
   "outputs": [],
   "source": []
  },
  {
   "cell_type": "code",
   "execution_count": null,
   "metadata": {},
   "outputs": [],
   "source": []
  },
  {
   "cell_type": "code",
   "execution_count": 44,
   "metadata": {},
   "outputs": [
    {
     "name": "stdout",
     "output_type": "stream",
     "text": [
      "0\n"
     ]
    }
   ],
   "source": [
    "img_path=\"Capstone covid data/test/0103fadb-1663-40a6-8a9e-09d626cd2091.png\"\n",
    "i = image.load_img(img_path, target_size=(224,224))\n",
    "i = image.img_to_array(i)/255.0\n",
    "i = i.reshape(1, 224,224,3)\n",
    "p = model.predict(i)\n",
    "print(math.floor(p[0][0]/0.5))"
   ]
  }
 ],
 "metadata": {
  "kernelspec": {
   "display_name": "Python 3",
   "language": "python",
   "name": "python3"
  },
  "language_info": {
   "codemirror_mode": {
    "name": "ipython",
    "version": 3
   },
   "file_extension": ".py",
   "mimetype": "text/x-python",
   "name": "python",
   "nbconvert_exporter": "python",
   "pygments_lexer": "ipython3",
   "version": "3.7.4"
  }
 },
 "nbformat": 4,
 "nbformat_minor": 4
}
