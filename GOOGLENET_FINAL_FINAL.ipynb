{
 "cells": [
  {
   "cell_type": "code",
   "execution_count": 1,
   "metadata": {},
   "outputs": [],
   "source": [
    "from keras.models import Model\n",
    "from keras.layers import Input, Conv2D, MaxPooling2D, AveragePooling2D, Flatten, GlobalAveragePooling2D, Dense, Dropout\n",
    "from keras.layers.merge import concatenate"
   ]
  },
  {
   "cell_type": "code",
   "execution_count": 2,
   "metadata": {},
   "outputs": [],
   "source": [
    "def Inception_block(input_layer, f1, f2_conv1, f2_conv3, f3_conv1, f3_conv5, f4): \n",
    "  # Input: \n",
    "  # - f1: number of filters of the 1x1 convolutional layer in the first path\n",
    "  # - f2_conv1, f2_conv3 are number of filters corresponding to the 1x1 and 3x3 convolutional layers in the second path\n",
    "  # - f3_conv1, f3_conv5 are the number of filters corresponding to the 1x1 and 5x5  convolutional layer in the third path\n",
    "  # - f4: number of filters of the 1x1 convolutional layer in the fourth path\n",
    "\n",
    "  # 1st path:\n",
    "  path1 = Conv2D(filters=f1, kernel_size = (1,1), padding = 'same', activation = 'relu')(input_layer)\n",
    "\n",
    "  # 2nd path\n",
    "  path2 = Conv2D(filters = f2_conv1, kernel_size = (1,1), padding = 'same', activation = 'relu')(input_layer)\n",
    "  path2 = Conv2D(filters = f2_conv3, kernel_size = (3,3), padding = 'same', activation = 'relu')(path2)\n",
    "\n",
    "  # 3rd path\n",
    "  path3 = Conv2D(filters = f3_conv1, kernel_size = (1,1), padding = 'same', activation = 'relu')(input_layer)\n",
    "  path3 = Conv2D(filters = f3_conv5, kernel_size = (5,5), padding = 'same', activation = 'relu')(path3)\n",
    "\n",
    "  # 4th path\n",
    "  path4 = MaxPooling2D((3,3), strides= (1,1), padding = 'same')(input_layer)\n",
    "  path4 = Conv2D(filters = f4, kernel_size = (1,1), padding = 'same', activation = 'relu')(path4)\n",
    "\n",
    "  output_layer = concatenate([path1, path2, path3, path4], axis = -1)\n",
    "\n",
    "  return output_layer"
   ]
  },
  {
   "cell_type": "code",
   "execution_count": 78,
   "metadata": {},
   "outputs": [],
   "source": [
    "def GoogLeNet():\n",
    "  # input layer \n",
    "  input_layer = Input(shape = (224, 224, 3))\n",
    "\n",
    "  # convolutional layer: filters = 32, kernel_size = (3,3)\n",
    "  X = Conv2D(filters = 32, kernel_size = (3,3), activation = 'relu')(input_layer)\n",
    "\n",
    "  # max-pooling layer: pool_size = (2,2)\n",
    "  X = MaxPooling2D(pool_size = (2,2))(X)\n",
    "\n",
    "  # convolutional layer: filters = 64\n",
    "  X = Conv2D(filters = 64, kernel_size = (3,3), activation = 'relu')(X)\n",
    "\n",
    "  # convolutional layer: filters = 64, kernel_size = (3,3)\n",
    "  X = Conv2D(filters = 64, kernel_size = (3,3),activation = 'relu')(X)\n",
    "\n",
    "  # max-pooling layer: pool_size = (2,2)\n",
    "  X = MaxPooling2D(pool_size= (2,2) )(X)\n",
    "\n",
    "  # 1st Inception block\n",
    "  X = Inception_block(X, f1 = 32, f2_conv1 = 64, f2_conv3 = 128, f3_conv1 = 32, f3_conv5 = 64, f4 = 64)\n",
    "\n",
    "  # 2nd Inception block\n",
    "  X = Inception_block(X, f1 = 64, f2_conv1 = 128, f2_conv3 = 128, f3_conv1 = 32, f3_conv5 = 64, f4 = 64)\n",
    "\n",
    "  # max-pooling layer: pool_size = (2,2)\n",
    "  X = MaxPooling2D(pool_size= (2,2))(X)\n",
    "\n",
    "  # 3rd Inception block\n",
    "  X = Inception_block(X, f1 = 32, f2_conv1 = 64, f2_conv3 = 128, f3_conv1 = 32, f3_conv5 = 64, f4 = 128)\n",
    "\n",
    "  # Extra network 1:\n",
    "  X1 = AveragePooling2D(pool_size = (2,2))(X)\n",
    "  X1 = Conv2D(filters = 128, kernel_size = (3,3), activation = 'relu')(X1)\n",
    "  X1 = Flatten()(X1)\n",
    "  X1 = Dense(64, activation = 'relu')(X1)\n",
    "  X1 = Dropout(0.5)(X1)\n",
    "  X1 = Dense(1, activation = 'sigmoid', name=\"output1\")(X1)\n",
    "\n",
    "  \n",
    "  # 4th Inception block\n",
    "  X = Inception_block(X, f1 = 64, f2_conv1 = 32, f2_conv3 = 64, f3_conv1 = 32, f3_conv5 = 128, f4 = 64)\n",
    "\n",
    "  # 5th Inception block\n",
    "  X = Inception_block(X, f1 = 32, f2_conv1 = 64, f2_conv3 = 128, f3_conv1 = 32, f3_conv5 = 64, f4 = 64)\n",
    "\n",
    "  # 6th Inception block\n",
    "  X = Inception_block(X, f1 = 64, f2_conv1 = 64, f2_conv3 = 128, f3_conv1 = 32, f3_conv5 = 64, f4 = 128)\n",
    "\n",
    "  # Extra network 2:\n",
    "  X2 = AveragePooling2D(pool_size = (2,2))(X)\n",
    "  X2 = Conv2D(filters = 128, kernel_size = (3,3), activation = 'relu')(X2)\n",
    "  X2 = Flatten()(X2)\n",
    "  X2 = Dense(64, activation = 'relu')(X2)\n",
    "  X2 = Dropout(0.25)(X2)\n",
    "  X2 = Dense(1, activation = 'sigmoid', name=\"output2\")(X2)\n",
    "  \n",
    "  \n",
    "  # 7th Inception block\n",
    "  X = Inception_block(X, f1 = 32, f2_conv1 = 64, f2_conv3 = 128, f3_conv1 = 32, \n",
    "                      f3_conv5 = 64, f4 = 64)\n",
    "\n",
    "  # max-pooling layer: pool_size = (2,2)\n",
    "  X = MaxPooling2D(pool_size = (2,2))(X)\n",
    "\n",
    "  # 8th Inception block\n",
    "  X = Inception_block(X, f1 = 64, f2_conv1 = 64, f2_conv3 = 128, f3_conv1 = 32, f3_conv5 = 64, f4 = 64)\n",
    "\n",
    "  # 9th Inception block\n",
    "  X = Inception_block(X, f1 = 32, f2_conv1 = 64, f2_conv3 = 128, f3_conv1 = 32, f3_conv5 = 64, f4 = 32)\n",
    "\n",
    "  # Global Average pooling layer \n",
    "  X = GlobalAveragePooling2D(name = 'GAPL')(X)\n",
    "\n",
    "  # Dropoutlayer \n",
    "  X = Dropout(0.25)(X)\n",
    "\n",
    "  # output layer \n",
    "  X = Dense(1, activation = 'sigmoid', name=\"output3\")(X)\n",
    "  \n",
    "  # model\n",
    "  model = Model(input_layer, [X, X1, X2], name = 'GoogLeNet')\n",
    "\n",
    "  return model"
   ]
  },
  {
   "cell_type": "code",
   "execution_count": 79,
   "metadata": {},
   "outputs": [],
   "source": [
    "model = GoogLeNet()"
   ]
  },
  {
   "cell_type": "code",
   "execution_count": 80,
   "metadata": {},
   "outputs": [
    {
     "name": "stdout",
     "output_type": "stream",
     "text": [
      "Model: \"GoogLeNet\"\n",
      "__________________________________________________________________________________________________\n",
      "Layer (type)                    Output Shape         Param #     Connected to                     \n",
      "==================================================================================================\n",
      "input_6 (InputLayer)            [(None, 224, 224, 3) 0                                            \n",
      "__________________________________________________________________________________________________\n",
      "conv2d_295 (Conv2D)             (None, 222, 222, 32) 896         input_6[0][0]                    \n",
      "__________________________________________________________________________________________________\n",
      "max_pooling2d_65 (MaxPooling2D) (None, 111, 111, 32) 0           conv2d_295[0][0]                 \n",
      "__________________________________________________________________________________________________\n",
      "conv2d_296 (Conv2D)             (None, 109, 109, 64) 18496       max_pooling2d_65[0][0]           \n",
      "__________________________________________________________________________________________________\n",
      "conv2d_297 (Conv2D)             (None, 107, 107, 64) 36928       conv2d_296[0][0]                 \n",
      "__________________________________________________________________________________________________\n",
      "max_pooling2d_66 (MaxPooling2D) (None, 53, 53, 64)   0           conv2d_297[0][0]                 \n",
      "__________________________________________________________________________________________________\n",
      "conv2d_299 (Conv2D)             (None, 53, 53, 64)   4160        max_pooling2d_66[0][0]           \n",
      "__________________________________________________________________________________________________\n",
      "conv2d_301 (Conv2D)             (None, 53, 53, 32)   2080        max_pooling2d_66[0][0]           \n",
      "__________________________________________________________________________________________________\n",
      "max_pooling2d_67 (MaxPooling2D) (None, 53, 53, 64)   0           max_pooling2d_66[0][0]           \n",
      "__________________________________________________________________________________________________\n",
      "conv2d_298 (Conv2D)             (None, 53, 53, 32)   2080        max_pooling2d_66[0][0]           \n",
      "__________________________________________________________________________________________________\n",
      "conv2d_300 (Conv2D)             (None, 53, 53, 128)  73856       conv2d_299[0][0]                 \n",
      "__________________________________________________________________________________________________\n",
      "conv2d_302 (Conv2D)             (None, 53, 53, 64)   51264       conv2d_301[0][0]                 \n",
      "__________________________________________________________________________________________________\n",
      "conv2d_303 (Conv2D)             (None, 53, 53, 64)   4160        max_pooling2d_67[0][0]           \n",
      "__________________________________________________________________________________________________\n",
      "concatenate_45 (Concatenate)    (None, 53, 53, 288)  0           conv2d_298[0][0]                 \n",
      "                                                                 conv2d_300[0][0]                 \n",
      "                                                                 conv2d_302[0][0]                 \n",
      "                                                                 conv2d_303[0][0]                 \n",
      "__________________________________________________________________________________________________\n",
      "conv2d_305 (Conv2D)             (None, 53, 53, 128)  36992       concatenate_45[0][0]             \n",
      "__________________________________________________________________________________________________\n",
      "conv2d_307 (Conv2D)             (None, 53, 53, 32)   9248        concatenate_45[0][0]             \n",
      "__________________________________________________________________________________________________\n",
      "max_pooling2d_68 (MaxPooling2D) (None, 53, 53, 288)  0           concatenate_45[0][0]             \n",
      "__________________________________________________________________________________________________\n",
      "conv2d_304 (Conv2D)             (None, 53, 53, 64)   18496       concatenate_45[0][0]             \n",
      "__________________________________________________________________________________________________\n",
      "conv2d_306 (Conv2D)             (None, 53, 53, 128)  147584      conv2d_305[0][0]                 \n",
      "__________________________________________________________________________________________________\n",
      "conv2d_308 (Conv2D)             (None, 53, 53, 64)   51264       conv2d_307[0][0]                 \n",
      "__________________________________________________________________________________________________\n",
      "conv2d_309 (Conv2D)             (None, 53, 53, 64)   18496       max_pooling2d_68[0][0]           \n",
      "__________________________________________________________________________________________________\n",
      "concatenate_46 (Concatenate)    (None, 53, 53, 320)  0           conv2d_304[0][0]                 \n",
      "                                                                 conv2d_306[0][0]                 \n",
      "                                                                 conv2d_308[0][0]                 \n",
      "                                                                 conv2d_309[0][0]                 \n",
      "__________________________________________________________________________________________________\n",
      "max_pooling2d_69 (MaxPooling2D) (None, 26, 26, 320)  0           concatenate_46[0][0]             \n",
      "__________________________________________________________________________________________________\n",
      "conv2d_311 (Conv2D)             (None, 26, 26, 64)   20544       max_pooling2d_69[0][0]           \n",
      "__________________________________________________________________________________________________\n",
      "conv2d_313 (Conv2D)             (None, 26, 26, 32)   10272       max_pooling2d_69[0][0]           \n",
      "__________________________________________________________________________________________________\n",
      "max_pooling2d_70 (MaxPooling2D) (None, 26, 26, 320)  0           max_pooling2d_69[0][0]           \n",
      "__________________________________________________________________________________________________\n",
      "conv2d_310 (Conv2D)             (None, 26, 26, 32)   10272       max_pooling2d_69[0][0]           \n",
      "__________________________________________________________________________________________________\n",
      "conv2d_312 (Conv2D)             (None, 26, 26, 128)  73856       conv2d_311[0][0]                 \n",
      "__________________________________________________________________________________________________\n",
      "conv2d_314 (Conv2D)             (None, 26, 26, 64)   51264       conv2d_313[0][0]                 \n",
      "__________________________________________________________________________________________________\n",
      "conv2d_315 (Conv2D)             (None, 26, 26, 128)  41088       max_pooling2d_70[0][0]           \n",
      "__________________________________________________________________________________________________\n",
      "concatenate_47 (Concatenate)    (None, 26, 26, 352)  0           conv2d_310[0][0]                 \n",
      "                                                                 conv2d_312[0][0]                 \n",
      "                                                                 conv2d_314[0][0]                 \n",
      "                                                                 conv2d_315[0][0]                 \n",
      "__________________________________________________________________________________________________\n",
      "conv2d_318 (Conv2D)             (None, 26, 26, 32)   11296       concatenate_47[0][0]             \n",
      "__________________________________________________________________________________________________\n",
      "conv2d_320 (Conv2D)             (None, 26, 26, 32)   11296       concatenate_47[0][0]             \n",
      "__________________________________________________________________________________________________\n",
      "max_pooling2d_71 (MaxPooling2D) (None, 26, 26, 352)  0           concatenate_47[0][0]             \n",
      "__________________________________________________________________________________________________\n",
      "conv2d_317 (Conv2D)             (None, 26, 26, 64)   22592       concatenate_47[0][0]             \n",
      "__________________________________________________________________________________________________\n",
      "conv2d_319 (Conv2D)             (None, 26, 26, 64)   18496       conv2d_318[0][0]                 \n",
      "__________________________________________________________________________________________________\n",
      "conv2d_321 (Conv2D)             (None, 26, 26, 128)  102528      conv2d_320[0][0]                 \n",
      "__________________________________________________________________________________________________\n",
      "conv2d_322 (Conv2D)             (None, 26, 26, 64)   22592       max_pooling2d_71[0][0]           \n",
      "__________________________________________________________________________________________________\n",
      "concatenate_48 (Concatenate)    (None, 26, 26, 320)  0           conv2d_317[0][0]                 \n",
      "                                                                 conv2d_319[0][0]                 \n",
      "                                                                 conv2d_321[0][0]                 \n",
      "                                                                 conv2d_322[0][0]                 \n",
      "__________________________________________________________________________________________________\n",
      "conv2d_324 (Conv2D)             (None, 26, 26, 64)   20544       concatenate_48[0][0]             \n",
      "__________________________________________________________________________________________________\n",
      "conv2d_326 (Conv2D)             (None, 26, 26, 32)   10272       concatenate_48[0][0]             \n",
      "__________________________________________________________________________________________________\n",
      "max_pooling2d_72 (MaxPooling2D) (None, 26, 26, 320)  0           concatenate_48[0][0]             \n",
      "__________________________________________________________________________________________________\n",
      "conv2d_323 (Conv2D)             (None, 26, 26, 32)   10272       concatenate_48[0][0]             \n",
      "__________________________________________________________________________________________________\n",
      "conv2d_325 (Conv2D)             (None, 26, 26, 128)  73856       conv2d_324[0][0]                 \n",
      "__________________________________________________________________________________________________\n",
      "conv2d_327 (Conv2D)             (None, 26, 26, 64)   51264       conv2d_326[0][0]                 \n",
      "__________________________________________________________________________________________________\n",
      "conv2d_328 (Conv2D)             (None, 26, 26, 64)   20544       max_pooling2d_72[0][0]           \n",
      "__________________________________________________________________________________________________\n",
      "concatenate_49 (Concatenate)    (None, 26, 26, 288)  0           conv2d_323[0][0]                 \n",
      "                                                                 conv2d_325[0][0]                 \n",
      "                                                                 conv2d_327[0][0]                 \n",
      "                                                                 conv2d_328[0][0]                 \n",
      "__________________________________________________________________________________________________\n",
      "conv2d_330 (Conv2D)             (None, 26, 26, 64)   18496       concatenate_49[0][0]             \n",
      "__________________________________________________________________________________________________\n",
      "conv2d_332 (Conv2D)             (None, 26, 26, 32)   9248        concatenate_49[0][0]             \n",
      "__________________________________________________________________________________________________\n",
      "max_pooling2d_73 (MaxPooling2D) (None, 26, 26, 288)  0           concatenate_49[0][0]             \n",
      "__________________________________________________________________________________________________\n",
      "conv2d_329 (Conv2D)             (None, 26, 26, 64)   18496       concatenate_49[0][0]             \n",
      "__________________________________________________________________________________________________\n",
      "conv2d_331 (Conv2D)             (None, 26, 26, 128)  73856       conv2d_330[0][0]                 \n",
      "__________________________________________________________________________________________________\n",
      "conv2d_333 (Conv2D)             (None, 26, 26, 64)   51264       conv2d_332[0][0]                 \n",
      "__________________________________________________________________________________________________\n",
      "conv2d_334 (Conv2D)             (None, 26, 26, 128)  36992       max_pooling2d_73[0][0]           \n",
      "__________________________________________________________________________________________________\n",
      "concatenate_50 (Concatenate)    (None, 26, 26, 384)  0           conv2d_329[0][0]                 \n",
      "                                                                 conv2d_331[0][0]                 \n",
      "                                                                 conv2d_333[0][0]                 \n",
      "                                                                 conv2d_334[0][0]                 \n",
      "__________________________________________________________________________________________________\n",
      "conv2d_337 (Conv2D)             (None, 26, 26, 64)   24640       concatenate_50[0][0]             \n",
      "__________________________________________________________________________________________________\n",
      "conv2d_339 (Conv2D)             (None, 26, 26, 32)   12320       concatenate_50[0][0]             \n",
      "__________________________________________________________________________________________________\n",
      "max_pooling2d_74 (MaxPooling2D) (None, 26, 26, 384)  0           concatenate_50[0][0]             \n",
      "__________________________________________________________________________________________________\n",
      "conv2d_336 (Conv2D)             (None, 26, 26, 32)   12320       concatenate_50[0][0]             \n",
      "__________________________________________________________________________________________________\n",
      "conv2d_338 (Conv2D)             (None, 26, 26, 128)  73856       conv2d_337[0][0]                 \n",
      "__________________________________________________________________________________________________\n",
      "conv2d_340 (Conv2D)             (None, 26, 26, 64)   51264       conv2d_339[0][0]                 \n",
      "__________________________________________________________________________________________________\n",
      "conv2d_341 (Conv2D)             (None, 26, 26, 64)   24640       max_pooling2d_74[0][0]           \n",
      "__________________________________________________________________________________________________\n",
      "concatenate_51 (Concatenate)    (None, 26, 26, 288)  0           conv2d_336[0][0]                 \n",
      "                                                                 conv2d_338[0][0]                 \n",
      "                                                                 conv2d_340[0][0]                 \n",
      "                                                                 conv2d_341[0][0]                 \n",
      "__________________________________________________________________________________________________\n",
      "max_pooling2d_75 (MaxPooling2D) (None, 13, 13, 288)  0           concatenate_51[0][0]             \n",
      "__________________________________________________________________________________________________\n",
      "conv2d_343 (Conv2D)             (None, 13, 13, 64)   18496       max_pooling2d_75[0][0]           \n",
      "__________________________________________________________________________________________________\n",
      "conv2d_345 (Conv2D)             (None, 13, 13, 32)   9248        max_pooling2d_75[0][0]           \n",
      "__________________________________________________________________________________________________\n",
      "max_pooling2d_76 (MaxPooling2D) (None, 13, 13, 288)  0           max_pooling2d_75[0][0]           \n",
      "__________________________________________________________________________________________________\n",
      "conv2d_342 (Conv2D)             (None, 13, 13, 64)   18496       max_pooling2d_75[0][0]           \n",
      "__________________________________________________________________________________________________\n",
      "conv2d_344 (Conv2D)             (None, 13, 13, 128)  73856       conv2d_343[0][0]                 \n",
      "__________________________________________________________________________________________________\n",
      "conv2d_346 (Conv2D)             (None, 13, 13, 64)   51264       conv2d_345[0][0]                 \n",
      "__________________________________________________________________________________________________\n",
      "conv2d_347 (Conv2D)             (None, 13, 13, 64)   18496       max_pooling2d_76[0][0]           \n",
      "__________________________________________________________________________________________________\n",
      "concatenate_52 (Concatenate)    (None, 13, 13, 320)  0           conv2d_342[0][0]                 \n",
      "                                                                 conv2d_344[0][0]                 \n",
      "                                                                 conv2d_346[0][0]                 \n",
      "                                                                 conv2d_347[0][0]                 \n",
      "__________________________________________________________________________________________________\n",
      "conv2d_349 (Conv2D)             (None, 13, 13, 64)   20544       concatenate_52[0][0]             \n",
      "__________________________________________________________________________________________________\n",
      "conv2d_351 (Conv2D)             (None, 13, 13, 32)   10272       concatenate_52[0][0]             \n",
      "__________________________________________________________________________________________________\n",
      "max_pooling2d_77 (MaxPooling2D) (None, 13, 13, 320)  0           concatenate_52[0][0]             \n",
      "__________________________________________________________________________________________________\n",
      "average_pooling2d_10 (AveragePo (None, 13, 13, 352)  0           concatenate_47[0][0]             \n",
      "__________________________________________________________________________________________________\n",
      "average_pooling2d_11 (AveragePo (None, 13, 13, 384)  0           concatenate_50[0][0]             \n",
      "__________________________________________________________________________________________________\n",
      "conv2d_348 (Conv2D)             (None, 13, 13, 32)   10272       concatenate_52[0][0]             \n",
      "__________________________________________________________________________________________________\n",
      "conv2d_350 (Conv2D)             (None, 13, 13, 128)  73856       conv2d_349[0][0]                 \n",
      "__________________________________________________________________________________________________\n",
      "conv2d_352 (Conv2D)             (None, 13, 13, 64)   51264       conv2d_351[0][0]                 \n",
      "__________________________________________________________________________________________________\n",
      "conv2d_353 (Conv2D)             (None, 13, 13, 32)   10272       max_pooling2d_77[0][0]           \n",
      "__________________________________________________________________________________________________\n",
      "conv2d_316 (Conv2D)             (None, 11, 11, 128)  405632      average_pooling2d_10[0][0]       \n",
      "__________________________________________________________________________________________________\n",
      "conv2d_335 (Conv2D)             (None, 11, 11, 128)  442496      average_pooling2d_11[0][0]       \n",
      "__________________________________________________________________________________________________\n",
      "concatenate_53 (Concatenate)    (None, 13, 13, 256)  0           conv2d_348[0][0]                 \n",
      "                                                                 conv2d_350[0][0]                 \n",
      "                                                                 conv2d_352[0][0]                 \n",
      "                                                                 conv2d_353[0][0]                 \n",
      "__________________________________________________________________________________________________\n",
      "flatten_10 (Flatten)            (None, 15488)        0           conv2d_316[0][0]                 \n",
      "__________________________________________________________________________________________________\n",
      "flatten_11 (Flatten)            (None, 15488)        0           conv2d_335[0][0]                 \n",
      "__________________________________________________________________________________________________\n",
      "GAPL (GlobalAveragePooling2D)   (None, 256)          0           concatenate_53[0][0]             \n",
      "__________________________________________________________________________________________________\n",
      "dense_16 (Dense)                (None, 64)           991296      flatten_10[0][0]                 \n",
      "__________________________________________________________________________________________________\n",
      "dense_17 (Dense)                (None, 64)           991296      flatten_11[0][0]                 \n",
      "__________________________________________________________________________________________________\n",
      "dropout_17 (Dropout)            (None, 256)          0           GAPL[0][0]                       \n",
      "__________________________________________________________________________________________________\n",
      "dropout_15 (Dropout)            (None, 64)           0           dense_16[0][0]                   \n",
      "__________________________________________________________________________________________________\n",
      "dropout_16 (Dropout)            (None, 64)           0           dense_17[0][0]                   \n",
      "__________________________________________________________________________________________________\n",
      "output3 (Dense)                 (None, 1)            257         dropout_17[0][0]                 \n",
      "__________________________________________________________________________________________________\n",
      "output1 (Dense)                 (None, 1)            65          dropout_15[0][0]                 \n",
      "__________________________________________________________________________________________________\n",
      "output2 (Dense)                 (None, 1)            65          dropout_16[0][0]                 \n",
      "==================================================================================================\n",
      "Total params: 4,663,683\n",
      "Trainable params: 4,663,683\n",
      "Non-trainable params: 0\n",
      "__________________________________________________________________________________________________\n"
     ]
    }
   ],
   "source": [
    "model.summary()"
   ]
  },
  {
   "cell_type": "code",
   "execution_count": 81,
   "metadata": {},
   "outputs": [],
   "source": [
    "import numpy as np\n",
    "import pandas as pd\n",
    "import os\n",
    "import PIL\n",
    "import cv2\n",
    "import tensorflow as tf\n",
    "from tensorflow import keras\n",
    "from tensorflow.keras.optimizers import Adam\n",
    "from tensorflow.keras.preprocessing.image import ImageDataGenerator\n",
    "import matplotlib.pyplot as plt\n",
    "from matplotlib.pyplot import imshow\n",
    "from sklearn.model_selection import train_test_split\n",
    "import matplotlib.pyplot as plt\n",
    "from matplotlib.pyplot import imshow\n",
    "import shutil\n",
    "from sklearn.metrics import confusion_matrix, classification_report"
   ]
  },
  {
   "cell_type": "code",
   "execution_count": 82,
   "metadata": {},
   "outputs": [],
   "source": [
    "train_df = pd.read_csv('capstone covid data/train.txt', sep=\" \", header=None)"
   ]
  },
  {
   "cell_type": "code",
   "execution_count": 83,
   "metadata": {},
   "outputs": [],
   "source": [
    "train_df.columns=['patient id', 'filename', 'class', 'data source']"
   ]
  },
  {
   "cell_type": "code",
   "execution_count": 84,
   "metadata": {},
   "outputs": [],
   "source": [
    "train_df=train_df.drop(['patient id', 'data source'], axis=1 )"
   ]
  },
  {
   "cell_type": "code",
   "execution_count": 85,
   "metadata": {},
   "outputs": [
    {
     "data": {
      "text/html": [
       "<div>\n",
       "<style scoped>\n",
       "    .dataframe tbody tr th:only-of-type {\n",
       "        vertical-align: middle;\n",
       "    }\n",
       "\n",
       "    .dataframe tbody tr th {\n",
       "        vertical-align: top;\n",
       "    }\n",
       "\n",
       "    .dataframe thead th {\n",
       "        text-align: right;\n",
       "    }\n",
       "</style>\n",
       "<table border=\"1\" class=\"dataframe\">\n",
       "  <thead>\n",
       "    <tr style=\"text-align: right;\">\n",
       "      <th></th>\n",
       "      <th>filename</th>\n",
       "      <th>class</th>\n",
       "    </tr>\n",
       "  </thead>\n",
       "  <tbody>\n",
       "    <tr>\n",
       "      <th>0</th>\n",
       "      <td>ARDSSevere.png</td>\n",
       "      <td>negative</td>\n",
       "    </tr>\n",
       "    <tr>\n",
       "      <th>1</th>\n",
       "      <td>acute-respiratory-distress-syndrome-ards-1.jpg</td>\n",
       "      <td>negative</td>\n",
       "    </tr>\n",
       "    <tr>\n",
       "      <th>2</th>\n",
       "      <td>acute-respiratory-distress-syndrome-ards.jpg</td>\n",
       "      <td>negative</td>\n",
       "    </tr>\n",
       "    <tr>\n",
       "      <th>3</th>\n",
       "      <td>ards-secondary-to-tiger-snake-bite.png</td>\n",
       "      <td>negative</td>\n",
       "    </tr>\n",
       "    <tr>\n",
       "      <th>4</th>\n",
       "      <td>pneumocystis-pneumonia-2-PA.png</td>\n",
       "      <td>negative</td>\n",
       "    </tr>\n",
       "  </tbody>\n",
       "</table>\n",
       "</div>"
      ],
      "text/plain": [
       "                                         filename     class\n",
       "0                                  ARDSSevere.png  negative\n",
       "1  acute-respiratory-distress-syndrome-ards-1.jpg  negative\n",
       "2    acute-respiratory-distress-syndrome-ards.jpg  negative\n",
       "3          ards-secondary-to-tiger-snake-bite.png  negative\n",
       "4                 pneumocystis-pneumonia-2-PA.png  negative"
      ]
     },
     "execution_count": 85,
     "metadata": {},
     "output_type": "execute_result"
    }
   ],
   "source": [
    "train_df.head()"
   ]
  },
  {
   "cell_type": "code",
   "execution_count": 86,
   "metadata": {},
   "outputs": [],
   "source": [
    "test_df = pd.read_csv('Capstone covid data/test.txt', sep=\" \", header=None)\n",
    "test_df.columns=['id', 'filename', 'class', 'data source' ]\n",
    "test_df=test_df.drop(['id', 'data source'], axis=1 )"
   ]
  },
  {
   "cell_type": "code",
   "execution_count": 87,
   "metadata": {},
   "outputs": [
    {
     "data": {
      "text/html": [
       "<div>\n",
       "<style scoped>\n",
       "    .dataframe tbody tr th:only-of-type {\n",
       "        vertical-align: middle;\n",
       "    }\n",
       "\n",
       "    .dataframe tbody tr th {\n",
       "        vertical-align: top;\n",
       "    }\n",
       "\n",
       "    .dataframe thead th {\n",
       "        text-align: right;\n",
       "    }\n",
       "</style>\n",
       "<table border=\"1\" class=\"dataframe\">\n",
       "  <thead>\n",
       "    <tr style=\"text-align: right;\">\n",
       "      <th></th>\n",
       "      <th>filename</th>\n",
       "      <th>class</th>\n",
       "    </tr>\n",
       "  </thead>\n",
       "  <tbody>\n",
       "    <tr>\n",
       "      <th>0</th>\n",
       "      <td>MIDRC-RICORD-1C-419639-003251-46647-0.png</td>\n",
       "      <td>positive</td>\n",
       "    </tr>\n",
       "    <tr>\n",
       "      <th>1</th>\n",
       "      <td>MIDRC-RICORD-1C-419639-001464-39871-0.png</td>\n",
       "      <td>positive</td>\n",
       "    </tr>\n",
       "    <tr>\n",
       "      <th>2</th>\n",
       "      <td>MIDRC-RICORD-1C-419639-000918-78965-0.png</td>\n",
       "      <td>positive</td>\n",
       "    </tr>\n",
       "    <tr>\n",
       "      <th>3</th>\n",
       "      <td>MIDRC-RICORD-1C-419639-003318-64285-0.png</td>\n",
       "      <td>positive</td>\n",
       "    </tr>\n",
       "    <tr>\n",
       "      <th>4</th>\n",
       "      <td>MIDRC-RICORD-1C-419639-001015-81591-0.png</td>\n",
       "      <td>positive</td>\n",
       "    </tr>\n",
       "  </tbody>\n",
       "</table>\n",
       "</div>"
      ],
      "text/plain": [
       "                                    filename     class\n",
       "0  MIDRC-RICORD-1C-419639-003251-46647-0.png  positive\n",
       "1  MIDRC-RICORD-1C-419639-001464-39871-0.png  positive\n",
       "2  MIDRC-RICORD-1C-419639-000918-78965-0.png  positive\n",
       "3  MIDRC-RICORD-1C-419639-003318-64285-0.png  positive\n",
       "4  MIDRC-RICORD-1C-419639-001015-81591-0.png  positive"
      ]
     },
     "execution_count": 87,
     "metadata": {},
     "output_type": "execute_result"
    }
   ],
   "source": [
    "test_df.head()"
   ]
  },
  {
   "cell_type": "code",
   "execution_count": 88,
   "metadata": {},
   "outputs": [
    {
     "data": {
      "text/plain": [
       "negative    13793\n",
       "positive     2158\n",
       "Name: class, dtype: int64"
      ]
     },
     "execution_count": 88,
     "metadata": {},
     "output_type": "execute_result"
    }
   ],
   "source": [
    "train_df['class'].value_counts()"
   ]
  },
  {
   "cell_type": "code",
   "execution_count": 89,
   "metadata": {},
   "outputs": [],
   "source": [
    "negative  = train_df[train_df['class']=='negative']  \n",
    "positive = train_df[train_df['class']=='positive'] \n",
    "from sklearn.utils import resample\n",
    "\n",
    "df_majority_downsampled = resample(negative, replace = True, n_samples = 2158) \n",
    "\n",
    "train_df = pd.concat([positive, df_majority_downsampled])\n",
    "\n",
    "from sklearn.utils import shuffle\n",
    "train_df = shuffle(train_df) "
   ]
  },
  {
   "cell_type": "code",
   "execution_count": 90,
   "metadata": {},
   "outputs": [
    {
     "data": {
      "text/plain": [
       "positive    2158\n",
       "negative    2158\n",
       "Name: class, dtype: int64"
      ]
     },
     "execution_count": 90,
     "metadata": {},
     "output_type": "execute_result"
    }
   ],
   "source": [
    "train_df['class'].value_counts()"
   ]
  },
  {
   "cell_type": "code",
   "execution_count": 91,
   "metadata": {},
   "outputs": [],
   "source": [
    "train_df, valid_df = train_test_split(train_df, train_size=0.9, random_state=0)"
   ]
  },
  {
   "cell_type": "code",
   "execution_count": 92,
   "metadata": {},
   "outputs": [
    {
     "name": "stdout",
     "output_type": "stream",
     "text": [
      "Negative and positive values of train: negative    1949\n",
      "positive    1935\n",
      "Name: class, dtype: int64\n",
      "Negative and positive values of validation: positive    223\n",
      "negative    209\n",
      "Name: class, dtype: int64\n",
      "Negative and positive values of test: positive    200\n",
      "negative    200\n",
      "Name: class, dtype: int64\n"
     ]
    }
   ],
   "source": [
    "print(f\"Negative and positive values of train: {train_df['class'].value_counts()}\")\n",
    "print(f\"Negative and positive values of validation: {valid_df['class'].value_counts()}\")\n",
    "print(f\"Negative and positive values of test: {test_df['class'].value_counts()}\")"
   ]
  },
  {
   "cell_type": "code",
   "execution_count": 93,
   "metadata": {},
   "outputs": [],
   "source": [
    "train_path = 'Capstone covid data/train'  #directory path\n",
    "test_path = 'Capstone covid data/test'"
   ]
  },
  {
   "cell_type": "code",
   "execution_count": 94,
   "metadata": {},
   "outputs": [],
   "source": [
    "train_datagen = ImageDataGenerator(rescale = 1./255, \n",
    "                                   shear_range = 0.2, zoom_range = 0.2, horizontal_flip = True)\n",
    "test_datagen = ImageDataGenerator(rescale = 1./255)"
   ]
  },
  {
   "cell_type": "code",
   "execution_count": 95,
   "metadata": {},
   "outputs": [
    {
     "name": "stdout",
     "output_type": "stream",
     "text": [
      "Found 3884 validated image filenames belonging to 2 classes.\n",
      "Found 432 validated image filenames belonging to 2 classes.\n",
      "Found 400 validated image filenames belonging to 2 classes.\n"
     ]
    }
   ],
   "source": [
    "train_gen = train_datagen.flow_from_dataframe(dataframe = train_df, directory=train_path, x_col='filename', \n",
    "                                              y_col='class', target_size=(224,224), batch_size=64, \n",
    "                                               class_mode='binary')\n",
    "valid_gen = test_datagen.flow_from_dataframe(dataframe = valid_df, directory=train_path, x_col='filename',\n",
    "                                             y_col='class', target_size=(224,224), batch_size=64, \n",
    "                                            class_mode='binary')\n",
    "test_gen = test_datagen.flow_from_dataframe(dataframe = test_df, directory=test_path, x_col='filename', \n",
    "                                            y_col='class', target_size=(224,224), batch_size=64,\n",
    "                                             class_mode='binary')\n"
   ]
  },
  {
   "cell_type": "code",
   "execution_count": 96,
   "metadata": {},
   "outputs": [
    {
     "data": {
      "text/plain": [
       "{'negative': 0, 'positive': 1}"
      ]
     },
     "execution_count": 96,
     "metadata": {},
     "output_type": "execute_result"
    }
   ],
   "source": [
    "train_gen.class_indices"
   ]
  },
  {
   "cell_type": "code",
   "execution_count": 98,
   "metadata": {},
   "outputs": [],
   "source": [
    "model.compile(optimizer='adam', loss=keras.losses.binary_crossentropy, metrics=['accuracy'])"
   ]
  },
  {
   "cell_type": "code",
   "execution_count": 99,
   "metadata": {
    "scrolled": true
   },
   "outputs": [
    {
     "name": "stdout",
     "output_type": "stream",
     "text": [
      "Epoch 1/22\n",
      "61/61 [==============================] - 985s 16s/step - loss: 2.0857 - output3_loss: 0.6938 - output1_loss: 0.6972 - output2_loss: 0.6948 - output3_accuracy: 0.5028 - output1_accuracy: 0.4869 - output2_accuracy: 0.4930 - val_loss: 2.0794 - val_output3_loss: 0.6931 - val_output1_loss: 0.6931 - val_output2_loss: 0.6932 - val_output3_accuracy: 0.5162 - val_output1_accuracy: 0.5139 - val_output2_accuracy: 0.4838\n",
      "Epoch 2/22\n",
      "61/61 [==============================] - 1065s 17s/step - loss: 2.0711 - output3_loss: 0.6916 - output1_loss: 0.6862 - output2_loss: 0.6932 - output3_accuracy: 0.4892 - output1_accuracy: 0.5322 - output2_accuracy: 0.5015 - val_loss: 1.9855 - val_output3_loss: 0.6690 - val_output1_loss: 0.6404 - val_output2_loss: 0.6761 - val_output3_accuracy: 0.4838 - val_output1_accuracy: 0.7014 - val_output2_accuracy: 0.6759\n",
      "Epoch 3/22\n",
      "61/61 [==============================] - 1094s 18s/step - loss: 1.9098 - output3_loss: 0.6502 - output1_loss: 0.6164 - output2_loss: 0.6431 - output3_accuracy: 0.6457 - output1_accuracy: 0.6733 - output2_accuracy: 0.6524 - val_loss: 1.6477 - val_output3_loss: 0.5835 - val_output1_loss: 0.5138 - val_output2_loss: 0.5504 - val_output3_accuracy: 0.7500 - val_output1_accuracy: 0.7894 - val_output2_accuracy: 0.7847\n",
      "Epoch 4/22\n",
      "61/61 [==============================] - 1104s 18s/step - loss: 1.7515 - output3_loss: 0.6035 - output1_loss: 0.5590 - output2_loss: 0.5890 - output3_accuracy: 0.6952 - output1_accuracy: 0.7382 - output2_accuracy: 0.7132 - val_loss: 1.5431 - val_output3_loss: 0.5407 - val_output1_loss: 0.4802 - val_output2_loss: 0.5223 - val_output3_accuracy: 0.7639 - val_output1_accuracy: 0.8009 - val_output2_accuracy: 0.7801\n",
      "Epoch 5/22\n",
      "61/61 [==============================] - 1131s 19s/step - loss: 1.7054 - output3_loss: 0.5812 - output1_loss: 0.5518 - output2_loss: 0.5724 - output3_accuracy: 0.7093 - output1_accuracy: 0.7454 - output2_accuracy: 0.7217 - val_loss: 1.4296 - val_output3_loss: 0.4917 - val_output1_loss: 0.4534 - val_output2_loss: 0.4846 - val_output3_accuracy: 0.7870 - val_output1_accuracy: 0.8287 - val_output2_accuracy: 0.8218\n",
      "Epoch 6/22\n",
      "61/61 [==============================] - 1018s 17s/step - loss: 1.7100 - output3_loss: 0.5862 - output1_loss: 0.5508 - output2_loss: 0.5729 - output3_accuracy: 0.7003 - output1_accuracy: 0.7436 - output2_accuracy: 0.7178 - val_loss: 1.4925 - val_output3_loss: 0.5242 - val_output1_loss: 0.4790 - val_output2_loss: 0.4893 - val_output3_accuracy: 0.7384 - val_output1_accuracy: 0.7685 - val_output2_accuracy: 0.7685\n",
      "Epoch 7/22\n",
      "61/61 [==============================] - 1007s 16s/step - loss: 1.5928 - output3_loss: 0.5516 - output1_loss: 0.5129 - output2_loss: 0.5283 - output3_accuracy: 0.7297 - output1_accuracy: 0.7662 - output2_accuracy: 0.7541 - val_loss: 1.5364 - val_output3_loss: 0.5141 - val_output1_loss: 0.4938 - val_output2_loss: 0.5284 - val_output3_accuracy: 0.7546 - val_output1_accuracy: 0.7639 - val_output2_accuracy: 0.7407\n",
      "Epoch 8/22\n",
      "61/61 [==============================] - 1185s 19s/step - loss: 1.5954 - output3_loss: 0.5526 - output1_loss: 0.5132 - output2_loss: 0.5297 - output3_accuracy: 0.7343 - output1_accuracy: 0.7673 - output2_accuracy: 0.7593 - val_loss: 1.4004 - val_output3_loss: 0.5009 - val_output1_loss: 0.4284 - val_output2_loss: 0.4711 - val_output3_accuracy: 0.7616 - val_output1_accuracy: 0.8495 - val_output2_accuracy: 0.8218\n",
      "Epoch 9/22\n",
      "61/61 [==============================] - 1176s 19s/step - loss: 1.5515 - output3_loss: 0.5425 - output1_loss: 0.4934 - output2_loss: 0.5157 - output3_accuracy: 0.7441 - output1_accuracy: 0.7752 - output2_accuracy: 0.7691 - val_loss: 1.4693 - val_output3_loss: 0.5062 - val_output1_loss: 0.4683 - val_output2_loss: 0.4948 - val_output3_accuracy: 0.7477 - val_output1_accuracy: 0.8056 - val_output2_accuracy: 0.8079\n",
      "Epoch 10/22\n",
      "61/61 [==============================] - 1090s 18s/step - loss: 1.5488 - output3_loss: 0.5438 - output1_loss: 0.4879 - output2_loss: 0.5172 - output3_accuracy: 0.7371 - output1_accuracy: 0.7804 - output2_accuracy: 0.7580 - val_loss: 1.2070 - val_output3_loss: 0.4472 - val_output1_loss: 0.3606 - val_output2_loss: 0.3992 - val_output3_accuracy: 0.8079 - val_output1_accuracy: 0.8704 - val_output2_accuracy: 0.8565\n",
      "Epoch 11/22\n",
      "61/61 [==============================] - 1086s 18s/step - loss: 1.4744 - output3_loss: 0.5250 - output1_loss: 0.4568 - output2_loss: 0.4927 - output3_accuracy: 0.7467 - output1_accuracy: 0.7984 - output2_accuracy: 0.7752 - val_loss: 1.2211 - val_output3_loss: 0.4340 - val_output1_loss: 0.3694 - val_output2_loss: 0.4177 - val_output3_accuracy: 0.8194 - val_output1_accuracy: 0.8588 - val_output2_accuracy: 0.8403\n",
      "Epoch 12/22\n",
      "61/61 [==============================] - 1162s 19s/step - loss: 1.4404 - output3_loss: 0.5281 - output1_loss: 0.4368 - output2_loss: 0.4755 - output3_accuracy: 0.7559 - output1_accuracy: 0.8028 - output2_accuracy: 0.7876 - val_loss: 1.4608 - val_output3_loss: 0.5493 - val_output1_loss: 0.3992 - val_output2_loss: 0.5123 - val_output3_accuracy: 0.7431 - val_output1_accuracy: 0.8264 - val_output2_accuracy: 0.8079\n",
      "Epoch 13/22\n",
      "61/61 [==============================] - 1120s 18s/step - loss: 1.3367 - output3_loss: 0.4838 - output1_loss: 0.4069 - output2_loss: 0.4460 - output3_accuracy: 0.7830 - output1_accuracy: 0.8208 - output2_accuracy: 0.8010 - val_loss: 1.2473 - val_output3_loss: 0.4357 - val_output1_loss: 0.4000 - val_output2_loss: 0.4115 - val_output3_accuracy: 0.7847 - val_output1_accuracy: 0.8032 - val_output2_accuracy: 0.8125\n",
      "Epoch 14/22\n",
      "61/61 [==============================] - 1014s 17s/step - loss: 1.3526 - output3_loss: 0.4922 - output1_loss: 0.4155 - output2_loss: 0.4449 - output3_accuracy: 0.7848 - output1_accuracy: 0.8139 - output2_accuracy: 0.8069 - val_loss: 1.0138 - val_output3_loss: 0.3680 - val_output1_loss: 0.3091 - val_output2_loss: 0.3367 - val_output3_accuracy: 0.8380 - val_output1_accuracy: 0.8657 - val_output2_accuracy: 0.8472\n",
      "Epoch 15/22\n",
      "61/61 [==============================] - 919s 15s/step - loss: 1.3016 - output3_loss: 0.4692 - output1_loss: 0.4024 - output2_loss: 0.4300 - output3_accuracy: 0.7886 - output1_accuracy: 0.8223 - output2_accuracy: 0.8149 - val_loss: 1.1221 - val_output3_loss: 0.4005 - val_output1_loss: 0.3393 - val_output2_loss: 0.3822 - val_output3_accuracy: 0.8380 - val_output1_accuracy: 0.8750 - val_output2_accuracy: 0.8542\n",
      "Epoch 16/22\n",
      "61/61 [==============================] - 900s 15s/step - loss: 1.2219 - output3_loss: 0.4458 - output1_loss: 0.3782 - output2_loss: 0.3979 - output3_accuracy: 0.8041 - output1_accuracy: 0.8432 - output2_accuracy: 0.8280 - val_loss: 1.0725 - val_output3_loss: 0.3639 - val_output1_loss: 0.3050 - val_output2_loss: 0.4035 - val_output3_accuracy: 0.8403 - val_output1_accuracy: 0.8611 - val_output2_accuracy: 0.8264\n",
      "Epoch 17/22\n",
      "61/61 [==============================] - 904s 15s/step - loss: 1.2265 - output3_loss: 0.4557 - output1_loss: 0.3626 - output2_loss: 0.4082 - output3_accuracy: 0.8005 - output1_accuracy: 0.8453 - output2_accuracy: 0.8252 - val_loss: 0.9710 - val_output3_loss: 0.3562 - val_output1_loss: 0.2950 - val_output2_loss: 0.3197 - val_output3_accuracy: 0.8495 - val_output1_accuracy: 0.8819 - val_output2_accuracy: 0.8750\n",
      "Epoch 18/22\n",
      "61/61 [==============================] - 908s 15s/step - loss: 1.1131 - output3_loss: 0.4253 - output1_loss: 0.3266 - output2_loss: 0.3612 - output3_accuracy: 0.8229 - output1_accuracy: 0.8720 - output2_accuracy: 0.8545 - val_loss: 1.2522 - val_output3_loss: 0.4836 - val_output1_loss: 0.3309 - val_output2_loss: 0.4378 - val_output3_accuracy: 0.7778 - val_output1_accuracy: 0.8819 - val_output2_accuracy: 0.8472\n",
      "Epoch 19/22\n",
      "61/61 [==============================] - 911s 15s/step - loss: 1.0260 - output3_loss: 0.3823 - output1_loss: 0.3112 - output2_loss: 0.3325 - output3_accuracy: 0.8406 - output1_accuracy: 0.8710 - output2_accuracy: 0.8633 - val_loss: 0.8426 - val_output3_loss: 0.3093 - val_output1_loss: 0.2397 - val_output2_loss: 0.2936 - val_output3_accuracy: 0.8750 - val_output1_accuracy: 0.9028 - val_output2_accuracy: 0.8750\n",
      "Epoch 20/22\n"
     ]
    },
    {
     "name": "stdout",
     "output_type": "stream",
     "text": [
      "61/61 [==============================] - 921s 15s/step - loss: 1.0288 - output3_loss: 0.3761 - output1_loss: 0.3131 - output2_loss: 0.3396 - output3_accuracy: 0.8401 - output1_accuracy: 0.8769 - output2_accuracy: 0.8594 - val_loss: 1.0393 - val_output3_loss: 0.3623 - val_output1_loss: 0.2988 - val_output2_loss: 0.3783 - val_output3_accuracy: 0.8426 - val_output1_accuracy: 0.8958 - val_output2_accuracy: 0.8426\n",
      "Epoch 21/22\n",
      "61/61 [==============================] - 929s 15s/step - loss: 0.9748 - output3_loss: 0.3610 - output1_loss: 0.2913 - output2_loss: 0.3224 - output3_accuracy: 0.8484 - output1_accuracy: 0.8792 - output2_accuracy: 0.8746 - val_loss: 0.8608 - val_output3_loss: 0.2791 - val_output1_loss: 0.3019 - val_output2_loss: 0.2797 - val_output3_accuracy: 0.8958 - val_output1_accuracy: 0.8843 - val_output2_accuracy: 0.9051\n",
      "Epoch 22/22\n",
      "61/61 [==============================] - 912s 15s/step - loss: 0.9126 - output3_loss: 0.3274 - output1_loss: 0.2801 - output2_loss: 0.3052 - output3_accuracy: 0.8689 - output1_accuracy: 0.8950 - output2_accuracy: 0.8816 - val_loss: 0.8832 - val_output3_loss: 0.3141 - val_output1_loss: 0.2569 - val_output2_loss: 0.3122 - val_output3_accuracy: 0.8773 - val_output1_accuracy: 0.9005 - val_output2_accuracy: 0.8866\n"
     ]
    }
   ],
   "source": [
    "history = model.fit(train_gen, \n",
    "                        epochs=22,\n",
    "                        validation_data = valid_gen,\n",
    "#                         steps_per_epoch=(len(train_gen.labels) / 80),\n",
    "#                         validation_steps=(len(valid_gen.labels) / 80),\n",
    "                       )"
   ]
  },
  {
   "cell_type": "code",
   "execution_count": 101,
   "metadata": {},
   "outputs": [],
   "source": [
    "import numpy as np\n",
    "import matplotlib.pyplot as plt\n",
    "import keras\n",
    "from keras.layers import *\n",
    "from keras.models import * \n",
    "from keras.preprocessing import image "
   ]
  },
  {
   "cell_type": "code",
   "execution_count": 168,
   "metadata": {},
   "outputs": [
    {
     "name": "stdout",
     "output_type": "stream",
     "text": [
      "[array([[0.4771619]], dtype=float32), array([[0.8648772]], dtype=float32), array([[0.68159515]], dtype=float32)]\n"
     ]
    }
   ],
   "source": [
    "img_path=\"Capstone covid data/train/COVID(605).png\"\n",
    "i = image.load_img(img_path, target_size=(224,224))\n",
    "i = image.img_to_array(i)/255.0\n",
    "i = i.reshape(1, 224,224,3)\n",
    "p=model.predict(i)\n",
    "print(p)"
   ]
  },
  {
   "cell_type": "code",
   "execution_count": 103,
   "metadata": {},
   "outputs": [],
   "source": [
    "model.save('GoogleNet_final_covid_latest.h5')"
   ]
  },
  {
   "cell_type": "code",
   "execution_count": 104,
   "metadata": {},
   "outputs": [
    {
     "name": "stderr",
     "output_type": "stream",
     "text": [
      "C:\\Users\\mayan\\Anaconda3\\lib\\site-packages\\keras\\engine\\training.py:2006: UserWarning: `Model.evaluate_generator` is deprecated and will be removed in a future version. Please use `Model.evaluate`, which supports generators.\n",
      "  warnings.warn('`Model.evaluate_generator` is deprecated and '\n"
     ]
    },
    {
     "data": {
      "text/plain": [
       "[0.883219301700592,\n",
       " 0.314116895198822,\n",
       " 0.2569216191768646,\n",
       " 0.312180757522583,\n",
       " 0.8773148059844971,\n",
       " 0.9004629850387573,\n",
       " 0.8865740895271301]"
      ]
     },
     "execution_count": 104,
     "metadata": {},
     "output_type": "execute_result"
    }
   ],
   "source": [
    "model.evaluate_generator(valid_gen)"
   ]
  },
  {
   "cell_type": "code",
   "execution_count": 128,
   "metadata": {},
   "outputs": [
    {
     "data": {
      "text/html": [
       "<div>\n",
       "<style scoped>\n",
       "    .dataframe tbody tr th:only-of-type {\n",
       "        vertical-align: middle;\n",
       "    }\n",
       "\n",
       "    .dataframe tbody tr th {\n",
       "        vertical-align: top;\n",
       "    }\n",
       "\n",
       "    .dataframe thead th {\n",
       "        text-align: right;\n",
       "    }\n",
       "</style>\n",
       "<table border=\"1\" class=\"dataframe\">\n",
       "  <thead>\n",
       "    <tr style=\"text-align: right;\">\n",
       "      <th></th>\n",
       "      <th>filename</th>\n",
       "      <th>class</th>\n",
       "    </tr>\n",
       "  </thead>\n",
       "  <tbody>\n",
       "    <tr>\n",
       "      <th>1310</th>\n",
       "      <td>COVID(605).png</td>\n",
       "      <td>positive</td>\n",
       "    </tr>\n",
       "    <tr>\n",
       "      <th>7212</th>\n",
       "      <td>a507cb8e-4b89-4f90-9cc7-c91e9a32ba5f.png</td>\n",
       "      <td>negative</td>\n",
       "    </tr>\n",
       "    <tr>\n",
       "      <th>1275</th>\n",
       "      <td>COVID(570).png</td>\n",
       "      <td>positive</td>\n",
       "    </tr>\n",
       "    <tr>\n",
       "      <th>573</th>\n",
       "      <td>10.1016-slash-j.anl.2020.04.002-a.png</td>\n",
       "      <td>positive</td>\n",
       "    </tr>\n",
       "    <tr>\n",
       "      <th>5246</th>\n",
       "      <td>6f869ebd-15ca-4d46-89b1-0c0a3d367124.png</td>\n",
       "      <td>negative</td>\n",
       "    </tr>\n",
       "    <tr>\n",
       "      <th>...</th>\n",
       "      <td>...</td>\n",
       "      <td>...</td>\n",
       "    </tr>\n",
       "    <tr>\n",
       "      <th>899</th>\n",
       "      <td>COVID(190).png</td>\n",
       "      <td>positive</td>\n",
       "    </tr>\n",
       "    <tr>\n",
       "      <th>13126</th>\n",
       "      <td>914dae25-a1f2-4a77-a368-2d5d5907ac74.png</td>\n",
       "      <td>negative</td>\n",
       "    </tr>\n",
       "    <tr>\n",
       "      <th>9701</th>\n",
       "      <td>eec8e710-926d-4a7e-9500-51ab5722a3a4.png</td>\n",
       "      <td>negative</td>\n",
       "    </tr>\n",
       "    <tr>\n",
       "      <th>13031</th>\n",
       "      <td>8ca19865-fd6c-4bcd-a2a0-7f9e9ea4bc5c.png</td>\n",
       "      <td>negative</td>\n",
       "    </tr>\n",
       "    <tr>\n",
       "      <th>2561</th>\n",
       "      <td>MIDRC-RICORD-1C-SITE2-000293-40361-0.png</td>\n",
       "      <td>positive</td>\n",
       "    </tr>\n",
       "  </tbody>\n",
       "</table>\n",
       "<p>432 rows × 2 columns</p>\n",
       "</div>"
      ],
      "text/plain": [
       "                                       filename     class\n",
       "1310                             COVID(605).png  positive\n",
       "7212   a507cb8e-4b89-4f90-9cc7-c91e9a32ba5f.png  negative\n",
       "1275                             COVID(570).png  positive\n",
       "573       10.1016-slash-j.anl.2020.04.002-a.png  positive\n",
       "5246   6f869ebd-15ca-4d46-89b1-0c0a3d367124.png  negative\n",
       "...                                         ...       ...\n",
       "899                              COVID(190).png  positive\n",
       "13126  914dae25-a1f2-4a77-a368-2d5d5907ac74.png  negative\n",
       "9701   eec8e710-926d-4a7e-9500-51ab5722a3a4.png  negative\n",
       "13031  8ca19865-fd6c-4bcd-a2a0-7f9e9ea4bc5c.png  negative\n",
       "2561   MIDRC-RICORD-1C-SITE2-000293-40361-0.png  positive\n",
       "\n",
       "[432 rows x 2 columns]"
      ]
     },
     "execution_count": 128,
     "metadata": {},
     "output_type": "execute_result"
    }
   ],
   "source": [
    "valid_df"
   ]
  },
  {
   "cell_type": "code",
   "execution_count": 130,
   "metadata": {},
   "outputs": [
    {
     "data": {
      "text/plain": [
       "432"
      ]
     },
     "execution_count": 130,
     "metadata": {},
     "output_type": "execute_result"
    }
   ],
   "source": [
    "len(valid_df.filename)"
   ]
  },
  {
   "cell_type": "code",
   "execution_count": 158,
   "metadata": {},
   "outputs": [
    {
     "data": {
      "text/plain": [
       "'COVID(605).png'"
      ]
     },
     "execution_count": 158,
     "metadata": {},
     "output_type": "execute_result"
    }
   ],
   "source": [
    "valid_df.filename.array[0]"
   ]
  },
  {
   "cell_type": "code",
   "execution_count": 259,
   "metadata": {},
   "outputs": [
    {
     "data": {
      "text/plain": [
       "{'negative': 0, 'positive': 1}"
      ]
     },
     "execution_count": 259,
     "metadata": {},
     "output_type": "execute_result"
    }
   ],
   "source": [
    "train_gen.class_indices"
   ]
  },
  {
   "cell_type": "code",
   "execution_count": 260,
   "metadata": {},
   "outputs": [],
   "source": [
    "y_actual=[]\n",
    "y_test=[]"
   ]
  },
  {
   "cell_type": "code",
   "execution_count": 261,
   "metadata": {},
   "outputs": [],
   "source": [
    "y=np.array(valid_df['class'].tolist())"
   ]
  },
  {
   "cell_type": "code",
   "execution_count": 262,
   "metadata": {},
   "outputs": [],
   "source": [
    "# y[1]"
   ]
  },
  {
   "cell_type": "code",
   "execution_count": 263,
   "metadata": {},
   "outputs": [],
   "source": [
    "for i in range(len(y)):\n",
    "    if(y[i]=='negative'):\n",
    "        y_actual.append(0)\n",
    "    elif(y[i]=='positive'):\n",
    "        y_actual.append(1)\n",
    "    else:\n",
    "        print('error')\n",
    "        break"
   ]
  },
  {
   "cell_type": "code",
   "execution_count": 264,
   "metadata": {},
   "outputs": [
    {
     "data": {
      "text/plain": [
       "1"
      ]
     },
     "execution_count": 264,
     "metadata": {},
     "output_type": "execute_result"
    }
   ],
   "source": [
    "y_actual[0]"
   ]
  },
  {
   "cell_type": "code",
   "execution_count": 265,
   "metadata": {},
   "outputs": [],
   "source": [
    "for j in range (len(valid_df.filename)):\n",
    "    img_path=\"Capstone covid data/train/\"+valid_df.filename.array[j]\n",
    "    i = image.load_img(img_path, target_size=(224,224))\n",
    "    i = image.img_to_array(i)/255.0\n",
    "    i = i.reshape(1, 224,224,3)\n",
    "    p=model.predict(i)\n",
    "    flag=0\n",
    "    if(p[0][0]>=0.5):\n",
    "        flag+=1\n",
    "    if(p[1][0]>=0.5):\n",
    "        flag+=1\n",
    "    if(p[2][0]>=0.5):\n",
    "        flag+=1\n",
    "    \n",
    "    if(flag>=2):\n",
    "        y_test.append(1)\n",
    "    elif(flag<2):\n",
    "        y_test.append(0)\n",
    "    \n",
    "    "
   ]
  },
  {
   "cell_type": "code",
   "execution_count": 266,
   "metadata": {},
   "outputs": [
    {
     "data": {
      "text/plain": [
       "0"
      ]
     },
     "execution_count": 266,
     "metadata": {},
     "output_type": "execute_result"
    }
   ],
   "source": [
    "y_test[4]\n"
   ]
  },
  {
   "cell_type": "code",
   "execution_count": 267,
   "metadata": {},
   "outputs": [
    {
     "data": {
      "text/plain": [
       "0"
      ]
     },
     "execution_count": 267,
     "metadata": {},
     "output_type": "execute_result"
    }
   ],
   "source": [
    "y_actual[4]"
   ]
  },
  {
   "cell_type": "code",
   "execution_count": 268,
   "metadata": {},
   "outputs": [],
   "source": [
    "y_actual=np.array(y_actual)\n",
    "y_test=np.array(y_test)"
   ]
  },
  {
   "cell_type": "code",
   "execution_count": 269,
   "metadata": {},
   "outputs": [],
   "source": [
    "from sklearn.metrics import confusion_matrix"
   ]
  },
  {
   "cell_type": "code",
   "execution_count": 270,
   "metadata": {},
   "outputs": [],
   "source": [
    "cm= confusion_matrix(y_actual,y_test)"
   ]
  },
  {
   "cell_type": "code",
   "execution_count": 271,
   "metadata": {},
   "outputs": [],
   "source": [
    "import seaborn as sns"
   ]
  },
  {
   "cell_type": "code",
   "execution_count": 272,
   "metadata": {},
   "outputs": [
    {
     "data": {
      "text/plain": [
       "<AxesSubplot:>"
      ]
     },
     "execution_count": 272,
     "metadata": {},
     "output_type": "execute_result"
    },
    {
     "data": {
      "image/png": "[encoded data removed]",
      "text/plain": [
       "<Figure size 432x288 with 2 Axes>"
      ]
     },
     "metadata": {
      "needs_background": "light"
     },
     "output_type": "display_data"
    }
   ],
   "source": [
    "# sns.heatmap(cm,cmap='plasma',annot=True)\n",
    "sns.heatmap(cm,annot=True, fmt=\"d\",cmap=\"Purples\", xticklabels=CATEGORIES, yticklabels=CATEGORIES)"
   ]
  },
  {
   "cell_type": "code",
   "execution_count": 275,
   "metadata": {},
   "outputs": [
    {
     "data": {
      "text/plain": [
       "0.9050925925925926"
      ]
     },
     "execution_count": 275,
     "metadata": {},
     "output_type": "execute_result"
    }
   ],
   "source": [
    "# Valid\n",
    "import sklearn\n",
    "sklearn.metrics.accuracy_score(y_actual, y_test, normalize=True, sample_weight=None)"
   ]
  },
  {
   "cell_type": "code",
   "execution_count": 182,
   "metadata": {},
   "outputs": [
    {
     "name": "stdout",
     "output_type": "stream",
     "text": [
      "7/7 [==============================] - 29s 4s/step - loss: 0.8354 - output3_loss: 0.2688 - output1_loss: 0.2662 - output2_loss: 0.3004 - output3_accuracy: 0.9050 - output1_accuracy: 0.8975 - output2_accuracy: 0.8825\n"
     ]
    },
    {
     "data": {
      "text/plain": [
       "[0.8354020714759827,\n",
       " 0.2687830626964569,\n",
       " 0.26622477173805237,\n",
       " 0.300394207239151,\n",
       " 0.9049999713897705,\n",
       " 0.8974999785423279,\n",
       " 0.8824999928474426]"
      ]
     },
     "execution_count": 182,
     "metadata": {},
     "output_type": "execute_result"
    }
   ],
   "source": [
    "model.evaluate_generator(test_gen,verbose=1)"
   ]
  },
  {
   "cell_type": "code",
   "execution_count": 276,
   "metadata": {},
   "outputs": [],
   "source": [
    "y=np.array(test_df['class'].tolist())"
   ]
  },
  {
   "cell_type": "code",
   "execution_count": 277,
   "metadata": {},
   "outputs": [],
   "source": [
    "y_actual=[]\n",
    "y_test=[]"
   ]
  },
  {
   "cell_type": "code",
   "execution_count": 278,
   "metadata": {},
   "outputs": [],
   "source": [
    "for i in range(len(y)):\n",
    "    if(y[i]=='negative'):\n",
    "        y_actual.append(0)\n",
    "    elif(y[i]=='positive'):\n",
    "        y_actual.append(1)\n",
    "    else:\n",
    "        print('error')\n",
    "        break"
   ]
  },
  {
   "cell_type": "code",
   "execution_count": 279,
   "metadata": {},
   "outputs": [],
   "source": [
    "for j in range (len(test_df.filename)):\n",
    "    img_path=\"Capstone covid data/test/\"+test_df.filename.array[j]\n",
    "    i = image.load_img(img_path, target_size=(224,224))\n",
    "    i = image.img_to_array(i)/255.0\n",
    "    i = i.reshape(1, 224,224,3)\n",
    "    p=model.predict(i)\n",
    "    flag=0\n",
    "    if(p[0][0]>=0.5):\n",
    "        flag+=1\n",
    "    if(p[1][0]>=0.5):\n",
    "        flag+=1\n",
    "    if(p[2][0]>=0.5):\n",
    "        flag+=1\n",
    "    \n",
    "    if(flag>=2):\n",
    "        y_test.append(1)\n",
    "    elif(flag<2):\n",
    "        y_test.append(0)\n",
    "    "
   ]
  },
  {
   "cell_type": "code",
   "execution_count": 280,
   "metadata": {},
   "outputs": [],
   "source": [
    "y_actual=np.array(y_actual)\n",
    "y_test=np.array(y_test)"
   ]
  },
  {
   "cell_type": "code",
   "execution_count": 281,
   "metadata": {},
   "outputs": [],
   "source": [
    "cm= confusion_matrix(y_actual,y_test)"
   ]
  },
  {
   "cell_type": "code",
   "execution_count": 282,
   "metadata": {},
   "outputs": [
    {
     "data": {
      "text/plain": [
       "<AxesSubplot:>"
      ]
     },
     "execution_count": 282,
     "metadata": {},
     "output_type": "execute_result"
    },
    {
     "data": {
      "image/png": "[encoded data removed]",
      "text/plain": [
       "<Figure size 432x288 with 2 Axes>"
      ]
     },
     "metadata": {
      "needs_background": "light"
     },
     "output_type": "display_data"
    }
   ],
   "source": [
    "# sns.heatmap(cm,annot=True)\n",
    "sns.heatmap(cm,annot=True, fmt=\"d\",cmap=\"Purples\", xticklabels=CATEGORIES, yticklabels=CATEGORIES)"
   ]
  },
  {
   "cell_type": "code",
   "execution_count": 283,
   "metadata": {},
   "outputs": [],
   "source": [
    "# y_actual"
   ]
  },
  {
   "cell_type": "code",
   "execution_count": 284,
   "metadata": {},
   "outputs": [],
   "source": [
    "# y_test"
   ]
  },
  {
   "cell_type": "code",
   "execution_count": 285,
   "metadata": {},
   "outputs": [
    {
     "data": {
      "text/plain": [
       "0.895"
      ]
     },
     "execution_count": 285,
     "metadata": {},
     "output_type": "execute_result"
    }
   ],
   "source": [
    "# test\n",
    "sklearn.metrics.accuracy_score(y_actual, y_test, normalize=True, sample_weight=None)"
   ]
  },
  {
   "cell_type": "code",
   "execution_count": 287,
   "metadata": {},
   "outputs": [],
   "source": [
    "# sklearn.metrics.accuracy_score(y_actual, y_test, normalize=True, sample_weight=None)"
   ]
  },
  {
   "cell_type": "code",
   "execution_count": null,
   "metadata": {},
   "outputs": [],
   "source": []
  }
 ],
 "metadata": {
  "kernelspec": {
   "display_name": "Python 3",
   "language": "python",
   "name": "python3"
  },
  "language_info": {
   "codemirror_mode": {
    "name": "ipython",
    "version": 3
   },
   "file_extension": ".py",
   "mimetype": "text/x-python",
   "name": "python",
   "nbconvert_exporter": "python",
   "pygments_lexer": "ipython3",
   "version": "3.7.4"
  }
 },
 "nbformat": 4,
 "nbformat_minor": 4
}
